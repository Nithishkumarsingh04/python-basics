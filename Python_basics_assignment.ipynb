{
  "nbformat": 4,
  "nbformat_minor": 0,
  "metadata": {
    "colab": {
      "private_outputs": true,
      "provenance": []
    },
    "kernelspec": {
      "name": "python3",
      "display_name": "Python 3"
    },
    "language_info": {
      "name": "python"
    }
  },
  "cells": [
    {
      "cell_type": "code",
      "execution_count": null,
      "metadata": {
        "id": "pIzThBhAES0j"
      },
      "outputs": [],
      "source": []
    },
    {
      "cell_type": "markdown",
      "source": [
        "#        Python basics\n",
        "\n",
        "  1. What is Python, and why is it popular?\n",
        "\n",
        "    > Python is a high-level and easy-to-learn programming language known for its clean syntax and versatility. It's popular because it Has a huge library ecosystem (e.g., Pandas, TensorFlow), Supports web development, data science, AI, automation, etc., Has strong community support.\n",
        "\n",
        "  2. What is an interpreter in Python?\n",
        "\n",
        "  > An interpreter in Python is a program that reads and executes Python code line by line. It translates the human-readable python script into machine\n",
        "  code.\n",
        "\n",
        "  3. What are pre-defined keywords in Python?\n",
        "\n",
        "  > Pre-defined keywords in Python are words that have special meaning to the Python interpreter and because they are part of the syntax and structure of the language e.g., for, while, else, if,etc.\n",
        "\n",
        "  4. Can keywords be used as variable names?\n",
        "\n",
        "  > The keywords cannot be used as variable names. Keywords are reserved words that have special meaning in the language, and using them as variable names will cause a syntax error.\n",
        "\n",
        "  5. What is mutability in Python?\n",
        "\n",
        "  > These objects can be directly modified after their creation. This means we can add, remove, or change elements within the object without creating a new object in memory.\n",
        "\n",
        "  6. Why are lists mutable, but tuples are immutable?\n",
        "\n",
        "  > Lists are mutable because they're designed to hold collections of items that may change over time and often need to add, remove, or modify elements in-place. Tuples are immutable because they're designed to represent fixed collections of items and Often used to represent records or constants,\n",
        "\n",
        "  7. What is the difference between “==” and “is” operators in Python?\n",
        "\n",
        "  > In Python, == and is are both comparison operators, but they compare different aspects of objects. The == operator is used to compare the equality of objects. The is operator is used to check if different variables are pointing to the same object in memory.\n",
        "\n",
        "  8. What are logical operators in Python?\n",
        "\n",
        "  > logical operators are used to combine conditional statements and expressions, returning a Boolean result (True or False).\n",
        "\n",
        "  9. What is type casting in Python?\n",
        "\n",
        "  > Type casting in Python refers to converting the data type of a value from one type to another. It's commonly used to make sure variables are in the right format for an operation.\n",
        "\n",
        "  10. What is the difference between implicit and explicit type casting?\n",
        "\n",
        "  > Implicit Type Casting (Automatic)and Python automatically converts one data type to another during operations where it's safe to do so. Typically during operations between different numeric types (e.g., int and float). No data loss or errors expected.\n",
        "  > Explicit Type Casting (Manual)The programmer manually converts a data type using functions like int(), float(), str(), etc.  When you want to force a specific data type (e.g., converting string input to an integer) and it Can result in data loss or errors if not done properly.\n",
        "\n",
        "  11. What is the purpose of conditional statements in Python?\n",
        "   \n",
        "  > Conditional statements in Python are used to make decisions in code based on whether a certain condition (or set of conditions) is true or false. They allow your program to execute different blocks of code depending on the outcomes of those conditions.\n",
        "\n",
        "  12. How does the elif statement work?\n",
        "  \n",
        "  > The elif statement in Python stands for \"else if\", and it's used as part of conditional logic. It allows you to check multiple conditions after an initial if statement. It's a cleaner alternative to writing multiple if statements.\n",
        "\n",
        "  13. What is the difference between for and while loops?\n",
        "\n",
        "  > The main difference between for and while loops in Python lies in how and when they iterate. A for loop iterates over a sequence (like a list or a range of numbers) and stops when it reaches the end of the sequence.\n",
        "  >  A while loop repeats as long as a condition is true. The number of times the loop runs can vary depending on the condition and may not be known in advance.\n",
        "\n",
        "  14. Describe a scenario where a while loop is more suitable than a for loop?\n",
        "\n",
        "  >   A while loop is more suitable than a for loop in scenarios where the\n",
        "      number of iterations is not known ahead of time and depends on a condition that is evaluated during runtime. If I want to prompt a user for their password until they enter the correct one. Since I don’t know how many attempts they might need, a while loop works perfectly. In this case, the loop keeps running indefinitely until the user enters the correct password, and I don't know beforehand how many attempts it will take. A while loop is ideal for this scenario because the number of iterations depends on the condition, not a fixed range or sequence.\n",
        "\n",
        "\n",
        "\n",
        "\n",
        "\n",
        "\n",
        "\n",
        "\n",
        "\n",
        "\n",
        "\n",
        "\n",
        "\n",
        "\n",
        "\n",
        "\n",
        "\n",
        "\n",
        "\n",
        "\n"
      ],
      "metadata": {
        "id": "btosOO7jEfrX"
      }
    },
    {
      "cell_type": "code",
      "source": [
        "# 1. Write a Python program to print \"Hello, World!\"?\n",
        "print(\"hello, world!\")\n"
      ],
      "metadata": {
        "id": "p4tXOdYPEoH1"
      },
      "execution_count": null,
      "outputs": []
    },
    {
      "cell_type": "code",
      "source": [
        "# 2. Write a Python program that displays your name and age?\n",
        "name = \"Nithishkumarsingh R\"\n",
        "age = 25\n",
        "print(name)\n",
        "print(age)"
      ],
      "metadata": {
        "id": "2iTgB428dLwW"
      },
      "execution_count": null,
      "outputs": []
    },
    {
      "cell_type": "code",
      "source": [
        "# 3. Write code to print all the pre-defined keywords in Python using the keyword library\n",
        "help(\"keywords\")"
      ],
      "metadata": {
        "id": "cH4ow7-pe4Vs"
      },
      "execution_count": null,
      "outputs": []
    },
    {
      "cell_type": "code",
      "source": [
        "# 4. Write a program that checks if a given word is a Python keyword.?\n",
        "import keyword\n",
        "word = (\"while\")\n",
        "\n",
        "if keyword.iskeyword(word):\n",
        "    print(f\"{word} is a Python keyword.\")\n",
        "else:\n",
        "    print(f\"{word} is not a Python keyword.\")\n"
      ],
      "metadata": {
        "id": "Ri8MG0O1khP9"
      },
      "execution_count": null,
      "outputs": []
    },
    {
      "cell_type": "code",
      "source": [
        "# 5. Create a list and tuple in Python, and demonstrate how attempting to change an element works differently for each?\n",
        "my_list = [1, 2, 3, 4, 5]\n",
        "my_tuple = (1, 2, 3, 4, 5)\n",
        "# adding an element to the list\n",
        "my_list.append(7)\n",
        "print(\"list after adding an element:\", my_list)\n",
        "# trying to add element to the tuple\n",
        "my_tuple.append(7)\n",
        "print(\"tuple after adding an element:\", my_tuple)\n",
        "\n"
      ],
      "metadata": {
        "id": "h9FOJEnHkmOM"
      },
      "execution_count": null,
      "outputs": []
    },
    {
      "cell_type": "code",
      "source": [
        "# 6. Write a function to demonstrate the behavior of mutable and immutable arguments.\n",
        "# Immutable argument (tuple)\n",
        "a = (1, 2, 3)\n",
        "print(\"Before modification (Immutable):\", a)\n",
        "\n",
        "# Trying to modify immutable argument (tuple)\n",
        "def modify_immutable(arg):\n",
        "  arg = arg + (4,)  # This creates a new tuple, but doesn't modify the original\n",
        "  return arg\n",
        "\n",
        "a = modify_immutable(a)\n",
        "print(\"After modification (Immutable):\", a)\n",
        "\n",
        "# Mutable argument (dictionary)\n",
        "b = {\"name\": \"Alice\", \"age\": 25}\n",
        "print(\"\\nBefore modification (Mutable):\", b)\n",
        "\n",
        "# Modifying mutable argument (dictionary)\n",
        "def modify_mutable(arg):\n",
        "  arg[\"age\"] = 26  # This modifies the dictionary in place\n",
        "  return arg\n",
        "\n",
        "b = modify_mutable(b)\n",
        "print(\"After modification (Mutable):\", b)"
      ],
      "metadata": {
        "id": "OuE6rqxDpIG8"
      },
      "execution_count": null,
      "outputs": []
    },
    {
      "cell_type": "code",
      "source": [
        "# 7. Write a program that performs basic arithmetic operations on two user-input numbers.\n",
        "num1 = float(input(\"enter the value:\"))\n",
        "num2 = float(input(\"enter the value:\"))\n",
        "\n",
        "     # Perform arithmetic operations\n",
        "addition = num1 + num2\n",
        "subtraction = num1 - num2\n",
        "multiplication = num1 * num2\n",
        "\n",
        "if num2 != 0:\n",
        "        division = num1 / num2\n",
        "else:\n",
        "        division = \"undefined (cannot divide by zero)\"\n",
        "\n",
        "print(f\"Addition: {num1} + {num2} = {addition}\")\n",
        "print(f\"Subtraction: {num1} - {num2} = {subtraction}\")\n",
        "print(f\"Multiplication: {num1} * {num2} = {multiplication}\")\n",
        "print(f\"Division: {num1} / {num2} = {division}\")"
      ],
      "metadata": {
        "id": "yybeqhrPrVPE"
      },
      "execution_count": null,
      "outputs": []
    },
    {
      "cell_type": "code",
      "source": [
        "# 8. Write a program to demonstrate the use of logical operators.\n",
        "# Logical Operators Demonstration in Python\n",
        "a = True\n",
        "b = False\n",
        "# AND operator\n",
        "print(\"a AND b: \", a and b)\n",
        "# OR operator\n",
        "print(\"a OR b: \", a or b)\n",
        "# NOT operator\n",
        "print(\"NOT a: \", not a)\n",
        "print(\"NOT b: \", not b)\n",
        "\n",
        "# using Logical Operators\n",
        "x = 5\n",
        "y = 10\n",
        "z = 15\n",
        "\n",
        "print(\"x < y AND y < z: \", (x < y) and (y < z))\n",
        "print(\"x > y OR y < z: \", (x > y) or (y < z))\n",
        "print(\"NOT (x < y): \", not (x < y))"
      ],
      "metadata": {
        "id": "6D5XKM8Lt5gZ"
      },
      "execution_count": null,
      "outputs": []
    },
    {
      "cell_type": "code",
      "source": [
        "# 9. Write a Python program to convert user input from string to integer, float, and boolean types.\n",
        "\n",
        "# user input\n",
        "user_input = input(\"name\")\n",
        "\n",
        "# convert to interger value\n",
        "int_value = int(user_input)\n",
        "print(f\"Converted to integer: {int_value}\")\n",
        "\n",
        "# convert to float value\n",
        "float_value = float(user_input)\n",
        "print(f\"Converted to float: {float_value}\")\n",
        "\n",
        "# convert to boolean value\n",
        "bool_value = bool(user_input)\n",
        "print(f\"Converted to boolean: {bool_value}\")"
      ],
      "metadata": {
        "id": "vZIOtFPmwKr_"
      },
      "execution_count": null,
      "outputs": []
    },
    {
      "cell_type": "code",
      "source": [
        "# Answer for 9 the question:\n",
        "# user input\n",
        "user_input = input(\"name\")\n",
        "\n",
        "# convert to interger value\n",
        "int_value = int(user_input)\n",
        "print(f\"Converted to integer: {int_value}\")\n",
        "\n",
        "# convert to float value\n",
        "float_value = float(user_input)\n",
        "print(f\"Converted to float: {float_value}\")\n",
        "\n",
        "# convert to boolean value\n",
        "bool_value = bool(user_input)\n",
        "print(f\"Converted to boolean: {bool_value}\")\n",
        "\n",
        "# If the string represent the whole number or decimal number, then the script uses the int() and float?() to convert it."
      ],
      "metadata": {
        "id": "eTPF9QSYx4Ih"
      },
      "execution_count": null,
      "outputs": []
    },
    {
      "cell_type": "code",
      "source": [
        "# 10. Write code to demonstrate type casting with list elements.\n",
        "\n",
        "# List with elements of different types\n",
        "mixed_list = [\"1\", 2, 3.5, True]\n",
        "\n",
        "# Type casting each element in the list to different types\n",
        "int_casted_list = [int(float(x)) if isinstance(x, (int, float)) else int(x) for x in mixed_list]\n",
        "float_casted_list = [float(x) if isinstance(x, (int, str, bool)) else float(x) for x in mixed_list]\n",
        "str_casted_list = [str(x) for x in mixed_list]\n",
        "bool_casted_list = [bool(x) for x in mixed_list]\n",
        "\n",
        "# Print lists after type casting\n",
        "print(\"List with elements casted to integers:\")\n",
        "print(int_casted_list)\n",
        "\n",
        "print(\"nList with elements casted to floats:\")\n",
        "print(float_casted_list)\n",
        "\n",
        "print(\"nList with elements casted to strings:\")\n",
        "print(str_casted_list)\n",
        "\n",
        "print(\"nList with elements casted to booleans:\")\n",
        "print(bool_casted_list)\n"
      ],
      "metadata": {
        "id": "cOfFQo2Q0kIE"
      },
      "execution_count": null,
      "outputs": []
    },
    {
      "cell_type": "code",
      "source": [
        "# 11. Write a program that checks if a number is positive, negative, or zero.\n",
        "\n",
        "# user input\n",
        "num = float(input(\"Enter a number: \"))\n",
        "\n",
        "# Check the conditions\n",
        "if num > 15:\n",
        "    print(\"The number is positive.\")\n",
        "elif num < 15:\n",
        "    print(\"The number is negative.\")\n",
        "else:\n",
        "    print(\"The number is zero.\")\n",
        "\n",
        "# if the number is greater than 15 it is positive and if the number is lesser then 15 it is negative\n",
        ""
      ],
      "metadata": {
        "id": "dthsWESA3G5G"
      },
      "execution_count": null,
      "outputs": []
    },
    {
      "cell_type": "code",
      "source": [
        "# 12. Write a for loop to print numbers from 1 to 10.\n",
        "\n",
        "for i in range(1, 11):\n",
        "    print(i)"
      ],
      "metadata": {
        "id": "E2da6ByR44vo"
      },
      "execution_count": null,
      "outputs": []
    },
    {
      "cell_type": "code",
      "source": [
        "# 13. Write a Python program to find the sum of all even numbers between 1 and 50.\n",
        "\n",
        "even_sum = 0\n",
        "\n",
        "# Loop through numbers from 1 to 50\n",
        "for number in range(1, 51):\n",
        "    if number % 2 == 0:\n",
        "        even_sum += number\n",
        "\n",
        "print(\"The sum of all even numbers between 1 and 50 is:\", even_sum)"
      ],
      "metadata": {
        "id": "34KHvtMk5wV7"
      },
      "execution_count": null,
      "outputs": []
    },
    {
      "cell_type": "code",
      "source": [
        "# 14. Write a program to reverse a string using a while loop.\n",
        "\n",
        "name= str((input(\"Enter the name: \")))\n",
        "i = len(name) - 1\n",
        "\n",
        "while i >= 0:\n",
        "    print(name[i], end = '')\n",
        "    i = i - 1\n"
      ],
      "metadata": {
        "id": "CHlNpjrc8St4"
      },
      "execution_count": null,
      "outputs": []
    },
    {
      "cell_type": "code",
      "source": [
        "# 15. Write a Python program to calculate the factorial of a number provided by the user using a while loop.\n",
        "\n",
        "# Get input from the user\n",
        "num = int(input(\"Enter a number to calculate its factorial: \"))\n",
        "\n",
        "# Initialize the factorial result\n",
        "factorial = 1\n",
        "\n",
        "# Initialize the counter\n",
        "i = 1\n",
        "\n",
        "if num < 0:\n",
        "    print(\"Sorry, factorial does not exist for negative numbers.\")\n",
        "elif num == 0:\n",
        "    print(\"The factorial of 0 is 1.\")\n",
        "else:\n",
        "    while i <= num:\n",
        "        factorial *= i\n",
        "        i += 1\n",
        "    print(f\"The factorial of {num} is {factorial}.\")\n"
      ],
      "metadata": {
        "id": "RjOWnSkb_vmA"
      },
      "execution_count": null,
      "outputs": []
    },
    {
      "cell_type": "code",
      "source": [
        "\n"
      ],
      "metadata": {
        "id": "BoaRVV53BWVy"
      },
      "execution_count": null,
      "outputs": []
    }
  ]
}